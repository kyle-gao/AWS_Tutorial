{
 "cells": [
  {
   "cell_type": "code",
   "execution_count": null,
   "metadata": {},
   "outputs": [],
   "source": [
    "!wget https://raw.githubusercontent.com/awslabs/amazon-sagemaker-examples/master/advanced_functionality/tensorflow_bring_your_own/utils/generate_cifar10_tfrecords.py\n",
    "!pip install ipywidgets\n",
    "!python generate_cifar10_tfrecords.py --data-dir cifar10"
   ]
  },
  {
   "cell_type": "code",
   "execution_count": 3,
   "metadata": {},
   "outputs": [],
   "source": [
    "import time, os, sys\n",
    "import sagemaker, boto3\n",
    "import numpy as np\n",
    "import pandas as pd\n",
    "\n",
    "sess = boto3.Session()\n",
    "sm   = sess.client('sagemaker')\n",
    "role = sagemaker.get_execution_role()\n",
    "sagemaker_session = sagemaker.Session(boto_session=sess)\n",
    "\n",
    "datasets = sagemaker_session.upload_data(path='cifar10', key_prefix='datasets/cifar10-dataset')"
   ]
  },
  {
   "cell_type": "code",
   "execution_count": 6,
   "metadata": {},
   "outputs": [],
   "source": [
    "from smexperiments.experiment import Experiment\n",
    "from smexperiments.trial import Trial\n",
    "from smexperiments.trial_component import TrialComponent"
   ]
  },
  {
   "cell_type": "code",
   "execution_count": null,
   "metadata": {},
   "outputs": [],
   "source": [
    "training_experiment = Experiment.create(\n",
    "                                experiment_name = \"sagemaker-training-experiments\", \n",
    "                                description     = \"Experiment to track cifar10 training trials\", \n",
    "                                sagemaker_boto_client=sm)"
   ]
  },
  {
   "cell_type": "code",
   "execution_count": null,
   "metadata": {},
   "outputs": [],
   "source": [
    "single_gpu_trial = Trial.create(\n",
    "    trial_name = 'sagemaker-single-gpu-training', \n",
    "    experiment_name = training_experiment.experiment_name,\n",
    "    sagemaker_boto_client = sm,\n",
    ")\n",
    "\n",
    "trial_comp_name = 'single-gpu-training-job' #each trial is an iteratin of the training job, an experiment can have many trials\n",
    "experiment_config = {\"ExperimentName\": training_experiment.experiment_name, \n",
    "                       \"TrialName\": single_gpu_trial.trial_name,\n",
    "                       \"TrialComponentDisplayName\": trial_comp_name}\n",
    "\n",
    "\"\"\"The model definition and training script goes training.py file\"\"\""
   ]
  },
  {
   "cell_type": "code",
   "execution_count": null,
   "metadata": {},
   "outputs": [],
   "source": [
    "\"\"\"Defines hyperparameter and calls the training.py file and initializes the training with .fit\"\"\"\n",
    "\n",
    "from sagemaker.tensorflow import TensorFlow\n",
    "\n",
    "hyperparams={'epochs'       : 30,\n",
    "             'learning-rate': 0.01,\n",
    "             'batch-size'   : 256,\n",
    "             'weight-decay' : 2e-4,\n",
    "             'momentum'     : 0.9,\n",
    "             'optimizer'    : 'adam'}\n",
    "\n",
    "bucket_name = sagemaker_session.default_bucket()\n",
    "output_path = f's3://{bucket_name}/jobs'\n",
    "metric_definitions = [{'Name': 'val_acc', 'Regex': 'val_acc: ([0-9\\\\.]+)'}]\n",
    "\n",
    "tf_estimator = TensorFlow(entry_point          = 'cifar10-training-sagemaker.py', \n",
    "                          output_path          = f'{output_path}/',\n",
    "                          code_location        = output_path,\n",
    "                          role                 = role,\n",
    "                          train_instance_count = 1, \n",
    "                          train_instance_type  = 'ml.g4dn.xlarge',\n",
    "                          framework_version    = '1.15.2', \n",
    "                          py_version           = 'py3',\n",
    "                          script_mode          = True,\n",
    "                          metric_definitions   = metric_definitions,\n",
    "                          sagemaker_session    = sagemaker_session,\n",
    "                          hyperparameters      = hyperparams)\n",
    "\n",
    "job_name=f'tensorflow-single-gpu-{time.strftime(\"%Y-%m-%d-%H-%M-%S\", time.gmtime())}'\n",
    "tf_estimator.fit({'training'  : datasets,\n",
    "                  'validation': datasets,\n",
    "                  'eval'      : datasets},\n",
    "                 job_name = job_name,\n",
    "                 experiment_config=experiment_config)"
   ]
  },
  {
   "cell_type": "code",
   "execution_count": null,
   "metadata": {},
   "outputs": [],
   "source": [
    "\"\"\"Perform hyper parameter search in parallel with HyperparameterTuner\"\"\"\n",
    "\n",
    "from sagemaker.tuner import IntegerParameter, CategoricalParameter, ContinuousParameter, HyperparameterTuner\n",
    "\n",
    "hyperparameter_ranges = {\n",
    "    'epochs'        : IntegerParameter(5, 30),\n",
    "    'learning-rate' : ContinuousParameter(0.001, 0.1, scaling_type='Logarithmic'), \n",
    "    'batch-size'    : CategoricalParameter(['128', '256', '512']),\n",
    "    'momentum'      : ContinuousParameter(0.9, 0.99),\n",
    "    'optimizer'     : CategoricalParameter(['sgd', 'adam'])\n",
    "}\n",
    "\n",
    "objective_metric_name = 'val_acc'\n",
    "objective_type = 'Maximize'\n",
    "metric_definitions = [{'Name': 'val_acc', 'Regex': 'val_acc: ([0-9\\\\.]+)'}]\n",
    "\n",
    "tf_estimator = TensorFlow(entry_point          = 'cifar10-training-sagemaker.py', \n",
    "                          output_path          = f'{output_path}/',\n",
    "                          code_location        = output_path,\n",
    "                          role                 = role,\n",
    "                          train_instance_count = 1, \n",
    "                          train_instance_type  = 'ml.g4dn.xlarge',\n",
    "                          framework_version    = '1.15', \n",
    "                          py_version           = 'py3',\n",
    "                          script_mode          = True,\n",
    "                          metric_definitions   = metric_definitions,\n",
    "                          sagemaker_session    = sagemaker_session)\n",
    "\n",
    "tuner = HyperparameterTuner(estimator             = tf_estimator,\n",
    "                            objective_metric_name = objective_metric_name,\n",
    "                            hyperparameter_ranges = hyperparameter_ranges,\n",
    "                            metric_definitions    = metric_definitions,\n",
    "                            max_jobs              = 16,\n",
    "                            max_parallel_jobs     = 8,\n",
    "                            objective_type        = objective_type)\n",
    "\n",
    "job_name=f'tf-hpo-{time.strftime(\"%Y-%m-%d-%H-%M-%S\", time.gmtime())}'\n",
    "tuner.fit({'training'  : datasets,\n",
    "           'validation': datasets,\n",
    "           'eval'      : datasets},"
   ]
  }
 ],
 "metadata": {
  "kernelspec": {
   "display_name": "Python 3 (TensorFlow CPU Optimized)",
   "language": "python",
   "name": "python3__SAGEMAKER_INTERNAL__arn:aws:sagemaker:us-east-1:081325390199:image/tensorflow-1.15-cpu-py36"
  },
  "language_info": {
   "codemirror_mode": {
    "name": "ipython",
    "version": 3
   },
   "file_extension": ".py",
   "mimetype": "text/x-python",
   "name": "python",
   "nbconvert_exporter": "python",
   "pygments_lexer": "ipython3",
   "version": "3.6.9"
  }
 },
 "nbformat": 4,
 "nbformat_minor": 4
}
